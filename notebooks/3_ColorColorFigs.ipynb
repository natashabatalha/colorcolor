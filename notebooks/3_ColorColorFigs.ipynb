{
 "cells": [
  {
   "cell_type": "code",
   "execution_count": null,
   "metadata": {
    "collapsed": true
   },
   "outputs": [],
   "source": [
    "from bokeh.plotting import figure, show, output_file\n",
    "from bokeh.palettes import Spectral11, Greys9, Spectral6, Inferno6,Viridis10\n",
    "import pandas as pd\n",
    "import numpy as np\n",
    "from bokeh.io import export_png\n",
    "from colorcolor import compute_colors as colcol \n",
    "from bokeh.layouts import row,column\n",
    "import pickle as pk\n",
    "from sqlalchemy import *\n",
    "import os\n",
    "from itertools import combinations as comb\n",
    "from bokeh.plotting import ColumnDataSource \n",
    "from bokeh.models import HoverTool"
   ]
  },
  {
   "cell_type": "markdown",
   "metadata": {},
   "source": [
    "## Computing Colors in Large Parameter Spaces \n",
    "\n",
    "There are 9,210 models in our database. If you have 10 filter options, the parameter space immediate gets large. For this analysis I chose to first compute a large dataframe with all possible combinations photometric observations and color observations. E.G. flux at filter1 and color from filter1-filter2. Then I go through and analyze what they look like. \n",
    "\n",
    "\n",
    "The function below takes **FOREVER** to run. There is a parallelized version in `scripts/` that is **MUCH** faster. If you wish to run this next part, I'd suggest going there. Otherwise skip to the next block where I load recomputed results "
   ]
  },
  {
   "cell_type": "code",
   "execution_count": null,
   "metadata": {
    "collapsed": true
   },
   "outputs": [],
   "source": [
    "#to compute all the colors in WFIRST make sure the ALBEDO_DB environment variable is set \n",
    "\n",
    "#df = colcol.WFIRST_colors()"
   ]
  },
  {
   "cell_type": "markdown",
   "metadata": {},
   "source": [
    "## WFIRST Color Fig From Paper showing Color-Space (Fig 7)\n",
    "\n",
    "This creates color-color figure 7 from the paper. Toggle between cloud_free =True/False and colorby,sizeby\n",
    "\n",
    "There is an online version of this at natashabatalha.github.io/color-color.html \n",
    "\n",
    "And the script to create the online version is in `scripts/`"
   ]
  },
  {
   "cell_type": "code",
   "execution_count": null,
   "metadata": {},
   "outputs": [],
   "source": [
    "#figure 7 has four panels. 2 cloud free, 2 with clouds, toggle this parameter here to which between cloud \n",
    "#and cloud free \n",
    "cloud_free = False\n",
    "colorby = 'distance'\n",
    "sizeby = 'metallicity'\n",
    "\n",
    "#as I said before, let's load this in since its all precomputed \n",
    "allfluxes = pk.load(open('wfirst_colors_dataframe.pk','rb'))\n",
    "et = allfluxes\n",
    "\n",
    "everything=et.dropna()[~et.dropna().isin([np.inf, -np.inf])]\n",
    "\n",
    "if cloud_free: everything = everything.loc[everything['cloud']==0] \n",
    "#color map \n",
    "col_map={}\n",
    "alp = {}\n",
    "siz_map={}\n",
    "ic=9\n",
    "\n",
    "#COLOR BY DISTANCE \n",
    "for i in colcol.print_available(colorby)[1]:\n",
    "    col_map[str(i)] = Spectral11[ic]\n",
    "    alp[str(i)] = 1.0\n",
    "    ic=ic-1\n",
    "\n",
    "#SIZE BY METALLICITY \n",
    "for i,s in zip(colcol.print_available(sizeby)[1], [10,15,20,25,30,35]):\n",
    "    if cloud_free: \n",
    "        siz_map[str(i)] = s\n",
    "    else:\n",
    "        siz_map[str(i)] = 15\n",
    "sizes = [siz_map[str(d)] for d in everything[sizeby]]\n",
    "\n",
    "cols = [col_map[str(d)] for d in everything[colorby]]\n",
    "alps = [alp[str(d)] for d in everything[colorby]]\n",
    "\n",
    "\n",
    "cf1 = figure(x_axis_label='575-883', y_axis_label='506-575',\n",
    "           plot_height=1400, plot_width=1000)#, x_range=[-8,-3], y_range=[-1.4,0.25])\n",
    "cf1.circle(everything['575883'],everything['506575'],  color=cols,alpha=alps, size = sizes)\n",
    "\n",
    "\n",
    "sizes = [siz_map[str(d)] for d in everything[everything['phase']==0][sizeby]]\n",
    "cols = [col_map[str(d)] for d in everything.loc[everything['phase']==0][colorby]]\n",
    "alps = [alp[str(d)] for d in everything.loc[everything['phase']==0][colorby]]\n",
    "#'575883','506575',\n",
    "cf = figure(x_axis_label='575-883', y_axis_label='506-575',\n",
    "           plot_height=1400, plot_width=1000)\n",
    "cf.circle(everything.loc[everything['phase']==0]['575883'], everything.loc[everything['phase']==0]['506575'], color=cols,alpha=alps, size = sizes)\n",
    "\n",
    "\n",
    "#SO much formatting\n",
    "cf.xaxis.axis_label_text_font='times'\n",
    "cf.yaxis.axis_label_text_font='times'\n",
    "cf.xaxis.major_label_text_font_size='55pt'\n",
    "cf.yaxis.major_label_text_font_size='55pt'\n",
    "cf.xaxis.axis_label_text_font_size='52pt'\n",
    "cf.yaxis.axis_label_text_font_size='52pt'\n",
    "cf.xaxis.major_label_text_font='times'\n",
    "cf.yaxis.major_label_text_font='times'\n",
    "cf.xaxis.axis_label_text_font_style = 'bold'\n",
    "cf.yaxis.axis_label_text_font_style = 'bold'\n",
    "\n",
    "cf1.xaxis.axis_label_text_font='times'\n",
    "cf1.yaxis.axis_label_text_font='times'\n",
    "cf1.xaxis.major_label_text_font_size='55pt'\n",
    "cf1.yaxis.major_label_text_font_size='55pt'\n",
    "cf1.xaxis.axis_label_text_font_size='52pt'\n",
    "cf1.yaxis.axis_label_text_font_size='52pt'\n",
    "cf1.xaxis.major_label_text_font='times'\n",
    "cf1.yaxis.major_label_text_font='times'\n",
    "cf1.xaxis.axis_label_text_font_style = 'bold'\n",
    "cf1.yaxis.axis_label_text_font_style = 'bold'\n",
    "\n",
    "show(row(cf,cf1))"
   ]
  },
  {
   "cell_type": "code",
   "execution_count": null,
   "metadata": {
    "collapsed": true
   },
   "outputs": [],
   "source": []
  }
 ],
 "metadata": {
  "kernelspec": {
   "display_name": "Python 3",
   "language": "python",
   "name": "python3"
  },
  "language_info": {
   "codemirror_mode": {
    "name": "ipython",
    "version": 3
   },
   "file_extension": ".py",
   "mimetype": "text/x-python",
   "name": "python",
   "nbconvert_exporter": "python",
   "pygments_lexer": "ipython3",
   "version": "3.6.1"
  }
 },
 "nbformat": 4,
 "nbformat_minor": 2
}
