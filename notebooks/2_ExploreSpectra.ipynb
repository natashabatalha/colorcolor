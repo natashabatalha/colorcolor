{
 "cells": [
  {
   "cell_type": "markdown",
   "metadata": {},
   "source": [
    "# This notebook has scripts to recreate Figures 3-5 in Batalha+2018"
   ]
  },
  {
   "cell_type": "code",
   "execution_count": null,
   "metadata": {
    "collapsed": true
   },
   "outputs": [],
   "source": [
    "from bokeh.plotting import figure, show, output_file\n",
    "from bokeh.palettes import Spectral11, Greys9, Spectral6, Inferno6,Viridis10\n",
    "import pandas as pd\n",
    "import numpy as np\n",
    "from bokeh.io import export_png\n",
    "from colorcolor import compute_colors as colcol \n",
    "from bokeh.layouts import row,column\n",
    "import pickle as pk\n",
    "from sqlalchemy import *\n",
    "import os\n",
    "from itertools import combinations as comb\n",
    "from bokeh.plotting import ColumnDataSource \n",
    "from bokeh.models import HoverTool"
   ]
  },
  {
   "cell_type": "markdown",
   "metadata": {},
   "source": [
    "## Distance Dependence \n",
    "\n",
    "Shows what the dependence on metallicity and distance is in a two panel plot. \n",
    "Feel free to play around with different parameter spaces"
   ]
  },
  {
   "cell_type": "code",
   "execution_count": null,
   "metadata": {
    "collapsed": true
   },
   "outputs": [],
   "source": [
    "m={}\n",
    "mf = figure(x_axis_label='Wavelength [μm]', y_axis_label='Geometric Albedo', x_range=[0.3,.97],y_range=[0,.73],\n",
    "           plot_height=690, plot_width=2000)\n",
    "df = figure(x_axis_label='Wavelength [μm]', y_axis_label='Geometric Albedo', x_range=[0.3,.97],y_range=[0,.73],\n",
    "           plot_height=690, plot_width=2000)\n",
    "i = 9\n",
    "#first lets explore all our distances \n",
    "for c in ['0.5','0.6','0.7','0.85','1.0','1.5','2.0','3.0','4.0','5.0']:\n",
    "    #pick your starting case \n",
    "    #I am picking a cloud free case one metallicity and one phase to start with \n",
    "    planet_dict = {\n",
    "      \"cloud\": 0,\n",
    "      \"display_string\": None,\n",
    "      \"distance\": float(c),\n",
    "      \"gravity\": 25,\n",
    "      \"metallicity\":0.0 ,\n",
    "      \"phase\": 0.0,\n",
    "      \"temp\": 150}\n",
    " \n",
    "    alp = 1\n",
    "    col = Spectral11[i]\n",
    "    m[str(c)] = colcol.select_model(planet_dict,kernel_size=1)\n",
    "    df.line(m[str(c)]['WAVELN'],m[str(c)]['GEOMALB'],color= col,line_width=3, alpha=alp)\n",
    "    i=i-1\n",
    "\n",
    "df.xaxis.axis_label_text_font='times'\n",
    "df.yaxis.axis_label_text_font='times'\n",
    "df.xaxis.major_label_text_font_size='45pt'\n",
    "df.yaxis.major_label_text_font_size='45pt'\n",
    "df.xaxis.axis_label_text_font_size='45pt'\n",
    "df.yaxis.axis_label_text_font_size='45pt'\n",
    "df.xaxis.major_label_text_font='times'\n",
    "df.yaxis.major_label_text_font='times'\n",
    "df.xaxis.axis_label_text_font_style = 'bold'\n",
    "df.yaxis.axis_label_text_font_style = 'bold'\n",
    "output_file('distance.html')\n",
    "show(df)"
   ]
  },
  {
   "cell_type": "markdown",
   "metadata": {},
   "source": [
    "## Metallicity Dependence \n",
    "\n",
    "Shows what the dependence on metallicity and distance is in a two panel plot. \n",
    "Feel free to play around with different parameter spaces"
   ]
  },
  {
   "cell_type": "code",
   "execution_count": null,
   "metadata": {
    "collapsed": true
   },
   "outputs": [],
   "source": [
    "i = 0\n",
    "#now let's explore all our metallicities \n",
    "for c in [0,0.5,1.0,1.5,1.7,2.0]:\n",
    "    planet_dict = {\n",
    "      \"cloud\": 0,\n",
    "      \"display_string\": None,\n",
    "      \"distance\": 5.0,\n",
    "      \"gravity\": 25,\n",
    "      \"metallicity\":c,\n",
    "      \"phase\": 0.0,\n",
    "      \"temp\": 150}\n",
    " \n",
    "    alp = 1\n",
    "    col = Inferno6[i]\n",
    "    m[str(c)] = colcol.select_model(planet_dict,kernel_size=1)\n",
    "    mf.line(m[str(c)]['WAVELN'],m[str(c)]['GEOMALB'],color= col,line_width=3, alpha=alp)\n",
    "    i+=1\n",
    "\n",
    "mf.xaxis.axis_label_text_font='times'\n",
    "mf.yaxis.axis_label_text_font='times'\n",
    "mf.xaxis.major_label_text_font_size='45pt'\n",
    "mf.yaxis.major_label_text_font_size='45pt'\n",
    "mf.xaxis.axis_label_text_font_size='45pt'\n",
    "mf.yaxis.axis_label_text_font_size='45pt'\n",
    "mf.xaxis.major_label_text_font='times'\n",
    "mf.yaxis.major_label_text_font='times'\n",
    "mf.xaxis.axis_label_text_font_style = 'bold'\n",
    "mf.yaxis.axis_label_text_font_style = 'bold'\n",
    "\n",
    "output_file('metal.html')\n",
    "show(mf)"
   ]
  },
  {
   "cell_type": "markdown",
   "metadata": {},
   "source": [
    "## Phase Dependence"
   ]
  },
  {
   "cell_type": "code",
   "execution_count": null,
   "metadata": {
    "collapsed": true
   },
   "outputs": [],
   "source": [
    "m = {}\n",
    "cf = figure(x_axis_label='Wavelength [μm]', y_axis_label='Albedo', x_range=[0.3,.97],y_range=[0,.85],\n",
    "           plot_height=1200, plot_width=2000)\n",
    "i = 0\n",
    "for c in np.linspace(0,180,10):\n",
    "    planet_dict = {\n",
    "      \"cloud\": 1,\n",
    "      \"display_string\": None,\n",
    "      \"distance\": 5.0,\n",
    "      \"gravity\": 25,\n",
    "      \"metallicity\": 0.0,\n",
    "      \"phase\": c,\n",
    "      \"temp\": 150}\n",
    "    col = Viridis10[i]\n",
    "    alp = 1\n",
    "    m[str(c)] = colcol.select_model(planet_dict,kernel_size=3)\n",
    "    cf.line(m[str(c)]['WAVELN'],m[str(c)]['GEOMALB'],color= col,line_width=3, alpha=alp)\n",
    "    i+=1\n",
    "\n",
    "cf.xaxis.axis_label_text_font='times'\n",
    "cf.yaxis.axis_label_text_font='times'\n",
    "cf.xaxis.major_label_text_font_size='55pt'\n",
    "cf.yaxis.major_label_text_font_size='55pt'\n",
    "cf.xaxis.axis_label_text_font_size='52pt'\n",
    "cf.yaxis.axis_label_text_font_size='52pt'\n",
    "cf.xaxis.major_label_text_font='times'\n",
    "cf.yaxis.major_label_text_font='times'\n",
    "cf.xaxis.axis_label_text_font_style = 'bold'\n",
    "cf.yaxis.axis_label_text_font_style = 'bold'\n",
    "output_file('phase.html')\n",
    "show(cf)"
   ]
  },
  {
   "cell_type": "markdown",
   "metadata": {},
   "source": [
    "## Sedimentation Efficiency"
   ]
  },
  {
   "cell_type": "code",
   "execution_count": null,
   "metadata": {
    "collapsed": true
   },
   "outputs": [],
   "source": [
    "m = {}\n",
    "cf = figure(x_axis_label='Wavelength [μm]', y_axis_label='Geometric Albedo', x_range=[0.3,.97],y_range=[0,.85],\n",
    "           plot_height=1400, plot_width=2000)\n",
    "i = 0\n",
    "for c in [0,6,3,1,.3,.1,.03,.01]:\n",
    "    planet_dict = {\n",
    "      \"cloud\": c,\n",
    "      \"display_string\": None,\n",
    "      \"distance\": 5.0,\n",
    "      \"gravity\": 25,\n",
    "      \"metallicity\": 0.0,\n",
    "      \"phase\": 0.0,\n",
    "      \"temp\": 150}\n",
    "    if c is 0:\n",
    "        col = 'blue'\n",
    "        alp = 0.5\n",
    "    else: \n",
    "        alp = 1\n",
    "        col = Greys9[i-1]\n",
    "    m[str(c)] = colcol.select_model(planet_dict,kernel_size=3)\n",
    "    cf.line(m[str(c)]['WAVELN'],m[str(c)]['GEOMALB'],color= col,line_width=3, alpha=alp)\n",
    "    i+=1\n",
    "    \n",
    "cf.xaxis.axis_label_text_font='times'\n",
    "cf.yaxis.axis_label_text_font='times'\n",
    "cf.xaxis.major_label_text_font_size='55pt'\n",
    "cf.yaxis.major_label_text_font_size='55pt'\n",
    "cf.xaxis.axis_label_text_font_size='52pt'\n",
    "cf.yaxis.axis_label_text_font_size='52pt'\n",
    "cf.xaxis.major_label_text_font='times'\n",
    "cf.yaxis.major_label_text_font='times'\n",
    "cf.xaxis.axis_label_text_font_style = 'bold'\n",
    "cf.yaxis.axis_label_text_font_style = 'bold'\n",
    "output_file('cloud.html')\n",
    "show(cf)"
   ]
  }
 ],
 "metadata": {
  "kernelspec": {
   "display_name": "Python 3",
   "language": "python",
   "name": "python3"
  },
  "language_info": {
   "codemirror_mode": {
    "name": "ipython",
    "version": 3
   },
   "file_extension": ".py",
   "mimetype": "text/x-python",
   "name": "python",
   "nbconvert_exporter": "python",
   "pygments_lexer": "ipython3",
   "version": "3.6.1"
  }
 },
 "nbformat": 4,
 "nbformat_minor": 2
}
