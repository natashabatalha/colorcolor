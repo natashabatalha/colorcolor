{
 "cells": [
  {
   "cell_type": "markdown",
   "metadata": {},
   "source": [
    "# Overview\n",
    "\n",
    "Included here are steps needed to load in models and compute colors of WFIRST filters \n",
    "\n",
    "### NOTE: there is also a user interface to pull/view models: \n",
    "\n",
    "    Access it by running: \n",
    "`sh runUI.sh`"
   ]
  },
  {
   "cell_type": "code",
   "execution_count": 1,
   "metadata": {},
   "outputs": [],
   "source": [
    "import warnings\n",
    "warnings.filterwarnings('ignore')\n",
    "from colorcolor import compute_colors as c\n",
    "import numpy as np"
   ]
  },
  {
   "cell_type": "markdown",
   "metadata": {},
   "source": [
    "### Specify Planet Parameters and load in model"
   ]
  },
  {
   "cell_type": "code",
   "execution_count": 2,
   "metadata": {
    "collapsed": true
   },
   "outputs": [],
   "source": [
    "planet_dict = {'cloud': 0.03, \n",
    "               'distance': 0.85, \n",
    "               'gravity': 25, \n",
    "               'metallicity': 0.0, \n",
    "               'phase': 100.0, \n",
    "               'temp': 150}\n",
    "\n",
    "planet = c.select_model(planet_dict)"
   ]
  },
  {
   "cell_type": "markdown",
   "metadata": {},
   "source": [
    "### Don't know which are available? Query SQLite database to find out"
   ]
  },
  {
   "cell_type": "code",
   "execution_count": 3,
   "metadata": {},
   "outputs": [
    {
     "name": "stdout",
     "output_type": "stream",
     "text": [
      "('cloud', array([ 0.01,  0.03,  0.1 ,  0.3 ,  1.  ,  3.  ,  6.  ,  0.  ]))\n",
      "('distance', array([ 0.5 ,  0.6 ,  0.7 ,  0.85,  1.  ,  1.5 ,  2.  ,  3.  ,  4.  ,  5.  ]))\n"
     ]
    }
   ],
   "source": [
    "print(c.print_available('cloud'))\n",
    "print(c.print_available('distance'))"
   ]
  },
  {
   "cell_type": "markdown",
   "metadata": {},
   "source": [
    "### Compute Color Color "
   ]
  },
  {
   "cell_type": "code",
   "execution_count": 4,
   "metadata": {},
   "outputs": [
    {
     "name": "stdout",
     "output_type": "stream",
     "text": [
      "(-0.016539795419908441, -0.79251982347065753, 4338726.1562474649, 4273132.1293210434, 2059389.0178316622)\n"
     ]
    }
   ],
   "source": [
    "#specify stellar parameters\n",
    "star = {'temp':5800, 'metal':0.0, 'logg':4.0}\n",
    "\n",
    "#specify three filters\n",
    "filter1 = '575'\n",
    "filter2 = '661'\n",
    "filter3 = '721'\n",
    "\n",
    "#compute color - color \n",
    "colorcolor = c.color_color(planet, star, filter1,filter2 ,filter3, 'wfirst')\n",
    "\n",
    "#returns filter 1 - filter 2, filter 2 - filter3\n",
    "print(colorcolor)"
   ]
  },
  {
   "cell_type": "markdown",
   "metadata": {},
   "source": [
    "### Dont know which filters are available? "
   ]
  },
  {
   "cell_type": "code",
   "execution_count": 6,
   "metadata": {},
   "outputs": [
    {
     "name": "stdout",
     "output_type": "stream",
     "text": [
      "['506', '575', '661', '883', '721', '940']\n"
     ]
    }
   ],
   "source": [
    "print(c.print_filters('wfirst'))"
   ]
  },
  {
   "cell_type": "code",
   "execution_count": null,
   "metadata": {
    "collapsed": true
   },
   "outputs": [],
   "source": []
  }
 ],
 "metadata": {
  "kernelspec": {
   "display_name": "Python 3",
   "language": "python",
   "name": "python3"
  },
  "language_info": {
   "codemirror_mode": {
    "name": "ipython",
    "version": 3
   },
   "file_extension": ".py",
   "mimetype": "text/x-python",
   "name": "python",
   "nbconvert_exporter": "python",
   "pygments_lexer": "ipython3",
   "version": "3.6.1"
  }
 },
 "nbformat": 4,
 "nbformat_minor": 2
}
