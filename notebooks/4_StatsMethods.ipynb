{
 "cells": [
  {
   "cell_type": "markdown",
   "metadata": {},
   "source": [
    "# Multivariate Analysis for Planetary Atmospheres\n",
    "\n",
    "This notebooks relies on the pickle dataframe in the `notebooks/` folder. You can also compute your own using `3_ColorColorFigs.ipynb`"
   ]
  },
  {
   "cell_type": "code",
   "execution_count": null,
   "metadata": {
    "collapsed": true
   },
   "outputs": [],
   "source": [
    "#COLOR COLOR PACKAGE\n",
    "from colorcolor import compute_colors as c\n",
    "from colorcolor import stats\n",
    "\n",
    "import matplotlib.pyplot as plt\n",
    "import pandas as pd\n",
    "import pickle as pk\n",
    "import numpy as np\n",
    "from itertools import combinations as comb\n",
    "import seaborn as sns\n",
    "%matplotlib inline"
   ]
  },
  {
   "cell_type": "markdown",
   "metadata": {},
   "source": [
    "This dataframe contains: \n",
    "- **independent variables** : filter observations \n",
    "- **dependent variables** : physical planet parameters "
   ]
  },
  {
   "cell_type": "code",
   "execution_count": null,
   "metadata": {
    "collapsed": true
   },
   "outputs": [],
   "source": [
    "data= pk.load(open('wfirst_colors_dataframe.pk','rb'))\n",
    "data=data.dropna()[~data.dropna().isin([np.inf, -np.inf])].dropna() #drop infinities and nans"
   ]
  },
  {
   "cell_type": "code",
   "execution_count": null,
   "metadata": {
    "collapsed": true
   },
   "outputs": [],
   "source": [
    "#let's specicy our y of interest for this tutorial, feel free to play around with this\n",
    "yofinterest = 'metallicity'\n",
    "#lets also specify a filter set. Let's just focus on WFIRST filters \n",
    "filters = c.print_filters('wfirst')"
   ]
  },
  {
   "cell_type": "code",
   "execution_count": null,
   "metadata": {
    "collapsed": true
   },
   "outputs": [],
   "source": [
    "#lets also specify a filter set. Let's just focus on WFIRST filters \n",
    "filters = c.print_filters('wfirst')\n",
    "#and also define the combinations: e.g. Filter1 - Filter2\n",
    "filter_combinations = [i[0]+i[1] for i in comb(filters,2)] +filters"
   ]
  },
  {
   "cell_type": "markdown",
   "metadata": {},
   "source": [
    "### Explore Correlation Matrix: Fig 6 Batalha+2018\n",
    "\n",
    "In figure 6 we looked at the difference between the correlation matrix with and without the cloud sample"
   ]
  },
  {
   "cell_type": "code",
   "execution_count": null,
   "metadata": {},
   "outputs": [],
   "source": [
    "#lets look at only the cloud free sample\n",
    "corr_matrix = data.loc[(data['cloud']==0)].corr()\n",
    "fig, ax = plt.subplots(figsize=(25,10)) \n",
    "#here I am simplifying the image by adding in an absolute value \n",
    "#you can remove it if you are interested in seeing what is positive and nagatively correlated\n",
    "sns.heatmap(abs(corr_matrix), vmax=1, square=False, linewidths=.5, ax=ax).xaxis.tick_top()"
   ]
  },
  {
   "cell_type": "markdown",
   "metadata": {},
   "source": [
    "Figure 6 in Batalha 2018 is a subset of this larger block"
   ]
  },
  {
   "cell_type": "code",
   "execution_count": null,
   "metadata": {},
   "outputs": [],
   "source": [
    "#lets look at everything\n",
    "corr_matrix = data.corr()\n",
    "fig, ax = plt.subplots(figsize=(25,10)) \n",
    "#here I am simplifying the image by adding in an absolute value \n",
    "#you can remove it if you are interested in seeing what is positive and nagatively correlated\n",
    "sns.heatmap(abs(corr_matrix), vmax=1, square=False, linewidths=.5, ax=ax).xaxis.tick_top()"
   ]
  },
  {
   "cell_type": "markdown",
   "metadata": {},
   "source": [
    "** See immediately how there are less strongly correlated values for physical parameters versus filters??**"
   ]
  },
  {
   "cell_type": "markdown",
   "metadata": {},
   "source": [
    "## Try Linear Discriminant Analysis For Classification"
   ]
  },
  {
   "cell_type": "code",
   "execution_count": null,
   "metadata": {
    "collapsed": true
   },
   "outputs": [],
   "source": [
    "#try cloud free first\n",
    "subset = data.loc[(data['cloud']==0) & (data['phase']==90)]\n",
    "\n",
    "#separate independent\n",
    "X = subset.loc[:,filter_combinations]\n",
    "\n",
    "#and dependent variables (also this make it a string so we can turn it into a label)\n",
    "y =  subset[yofinterest].astype(str)"
   ]
  },
  {
   "cell_type": "code",
   "execution_count": null,
   "metadata": {},
   "outputs": [],
   "source": [
    "lda_values=stats.lda_analysis(X,y)"
   ]
  },
  {
   "cell_type": "markdown",
   "metadata": {},
   "source": [
    "These warnings are coming up because we have used both absolute and relative filters. Because LDA, like regression techniques involves computing a matrix inversion, which is inaccurate if the determinant is close to 0 (i.e. two or more variables are almost a linear combination of each other). This means that our relative filter and absolute combinations are nearly a linear combination of each other (which makes sense). For classification purposes this is okay for now. "
   ]
  },
  {
   "cell_type": "code",
   "execution_count": null,
   "metadata": {},
   "outputs": [],
   "source": [
    "#Now lets unconstrain the phase\n",
    "subset = data.loc[(data['cloud']==0)]\n",
    "\n",
    "#separate independent\n",
    "X = subset.loc[:,filter_combinations]\n",
    "\n",
    "#and dependent variables (also this make it a string so we can turn it into a label)\n",
    "y =  subset[yofinterest].astype(str)\n",
    "\n",
    "lda_values=stats.lda_analysis(X,y)"
   ]
  },
  {
   "cell_type": "code",
   "execution_count": null,
   "metadata": {},
   "outputs": [],
   "source": [
    "#Now lets unconstrain everything\n",
    "subset = data\n",
    "\n",
    "#separate independent\n",
    "X = subset.loc[:,filter_combinations]\n",
    "\n",
    "#and dependent variables (also this make it a string so we can turn it into a label)\n",
    "y =  subset[yofinterest].astype(str)\n",
    "\n",
    "lda_values=stats.lda_analysis(X,y)"
   ]
  },
  {
   "cell_type": "code",
   "execution_count": null,
   "metadata": {
    "collapsed": true
   },
   "outputs": [],
   "source": []
  }
 ],
 "metadata": {
  "kernelspec": {
   "display_name": "Python 3",
   "language": "python",
   "name": "python3"
  },
  "language_info": {
   "codemirror_mode": {
    "name": "ipython",
    "version": 3
   },
   "file_extension": ".py",
   "mimetype": "text/x-python",
   "name": "python",
   "nbconvert_exporter": "python",
   "pygments_lexer": "ipython3",
   "version": "3.6.1"
  }
 },
 "nbformat": 4,
 "nbformat_minor": 2
}
